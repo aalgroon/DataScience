{
 "cells": [
  {
   "cell_type": "code",
   "execution_count": 2,
   "id": "6b10e409",
   "metadata": {},
   "outputs": [
    {
     "name": "stdout",
     "output_type": "stream",
     "text": [
      "Collecting msedge-selenium-tools\n",
      "  Downloading msedge_selenium_tools-3.141.3-py3-none-any.whl (15 kB)\n",
      "Collecting selenium==3.141\n",
      "  Downloading selenium-3.141.0-py2.py3-none-any.whl (904 kB)\n",
      "\u001b[K     |████████████████████████████████| 904 kB 133 kB/s eta 0:00:01\n",
      "\u001b[?25hRequirement already satisfied: urllib3 in ./opt/anaconda3/lib/python3.8/site-packages (from selenium==3.141) (1.26.4)\n",
      "Installing collected packages: selenium, msedge-selenium-tools\n",
      "  Attempting uninstall: selenium\n",
      "    Found existing installation: selenium 4.1.0\n",
      "    Uninstalling selenium-4.1.0:\n",
      "      Successfully uninstalled selenium-4.1.0\n",
      "Successfully installed msedge-selenium-tools-3.141.3 selenium-3.141.0\n",
      "Note: you may need to restart the kernel to use updated packages.\n"
     ]
    }
   ],
   "source": [
    "pip install msedge-selenium-tools selenium==3.141"
   ]
  },
  {
   "cell_type": "code",
   "execution_count": 132,
   "id": "9ada1f2c",
   "metadata": {},
   "outputs": [],
   "source": [
    "import csv\n",
    "from datetime import datetime\n",
    "from msedge.selenium_tools import Edge, EdgeOptions\n",
    "from selenium.common.exceptions import NoSuchElementException, ElementNotInteractableException\n",
    "from selenium import webdriver\n",
    "from selenium.webdriver.common.by import By\n",
    "from selenium.webdriver.common.keys import Keys\n",
    "from selenium.webdriver.support.ui import WebDriverWait\n",
    "from selenium.webdriver.support import expected_conditions as EC\n",
    "from webdriver_manager.chrome import ChromeDriverManager"
   ]
  },
  {
   "cell_type": "code",
   "execution_count": 133,
   "id": "5f4b1943",
   "metadata": {},
   "outputs": [],
   "source": [
    "def get_url(position, location):\n",
    "    \"\"\"Generate url from position and location\"\"\"\n",
    "    template = 'https://www.indeed.com/jobs?q={}&l={}'\n",
    "    position = position.replace(' ', '+')\n",
    "    location = location.replace(' ', '+')\n",
    "    url = template.format(position, location)\n",
    "    return url"
   ]
  },
  {
   "cell_type": "code",
   "execution_count": 134,
   "id": "42da5d4a",
   "metadata": {},
   "outputs": [],
   "source": [
    "def save_data_to_file(records):\n",
    "    \"\"\"Save data to csv file\"\"\"\n",
    "    with open(\"results1.csv\", 'w', newline='', encoding='utf-8') as f:\n",
    "        writer = csv.writer(f)\n",
    "        writer.writerow(['JobTitle', 'Company', 'Location', 'PostDate', 'ExtractDate', 'Summary', 'JobUrl'])\n",
    "        writer.writerows(records)"
   ]
  },
  {
   "cell_type": "code",
   "execution_count": 135,
   "id": "afbbb625",
   "metadata": {},
   "outputs": [],
   "source": [
    "def get_record(card):\n",
    "    \"\"\"Extract job data from single card\"\"\"\n",
    "    job_title = card.find_element_by_class_name('jobTitle').text\n",
    "    company = card.find_element_by_class_name('companyName').text\n",
    "    #location = card.find_element_by_class_name('location').text\n",
    "    post_date = card.find_element_by_class_name('date').text\n",
    "    extract_date = datetime.today().strftime('%Y-%m-%d')\n",
    "    #summary = card.find_element_by_class_name('summary').text\n",
    "    job_url = card.find_element_by_class_name('jobTitle').get_attribute('href')\n",
    "    return (job_title, company, location, post_date, extract_date, summary, job_url)"
   ]
  },
  {
   "cell_type": "code",
   "execution_count": 139,
   "id": "d445b0c0",
   "metadata": {},
   "outputs": [],
   "source": [
    "def get_page_records(cards, job_list, url_set):\n",
    "    \"\"\"Extract all cards from the page\"\"\"\n",
    "    for card in cards:\n",
    "        record = get_record(card)\n",
    "        # add if job title exists and not duplicate\n",
    "        if record[0] and record[-1] not in url_set:\n",
    "            job_list.append(record)\n",
    "            url_set.add(record[-1])"
   ]
  },
  {
   "cell_type": "code",
   "execution_count": 140,
   "id": "43277b3c",
   "metadata": {},
   "outputs": [],
   "source": [
    "def main(position, location):\n",
    "    \"\"\"Run the main program routine\"\"\"\n",
    "    scraped_jobs = []\n",
    "    scraped_urls = set()\n",
    "    \n",
    "    url = get_url(position, location)\n",
    "    \n",
    "    # setup web driver\n",
    "    #DRIVER_PATH = '/Users/a.groon/chromedriver'\n",
    "    driver =webdriver.Chrome(ChromeDriverManager().install())\n",
    "    #options = EdgeOptions()\n",
    "    #options.use_chromium = True\n",
    "    #driver = Edge(options=options)\n",
    "    driver.implicitly_wait(5)\n",
    "    driver.get(url)        \n",
    "    \n",
    "    # extract the job data\n",
    "    while True:\n",
    "        cards = driver.find_elements_by_class_name('jobsearch-SerpJobCard')\n",
    "        get_page_records(cards, scraped_jobs, scraped_urls)\n",
    "        try:\n",
    "            driver.find_element_by_xpath('//a[@aria-label=\"Next\"]').click()\n",
    "        except NoSuchElementException:\n",
    "            break\n",
    "        except ElementNotInteractableException:\n",
    "            driver.find_element_by_id('popover-x').click()  # to handle job notification popup\n",
    "            get_page_records(cards, scraped_jobs, scraped_urls)\n",
    "            continue\n",
    "    \n",
    "    # close driver and save records\n",
    "    driver.quit()\n",
    "    save_data_to_file(scraped_jobs)"
   ]
  },
  {
   "cell_type": "code",
   "execution_count": 141,
   "id": "53d42375",
   "metadata": {},
   "outputs": [
    {
     "name": "stderr",
     "output_type": "stream",
     "text": [
      "\n",
      "\n",
      "====== WebDriver manager ======\n",
      "Current google-chrome version is 96.0.4664\n",
      "Get LATEST chromedriver version for 96.0.4664 google-chrome\n",
      "Driver [/Users/a.groon/.wdm/drivers/chromedriver/mac64/96.0.4664.45/chromedriver] found in cache\n"
     ]
    }
   ],
   "source": [
    "# run a search\n",
    "main('data scientist', 'chicago, il')"
   ]
  },
  {
   "cell_type": "code",
   "execution_count": null,
   "id": "68455f5f",
   "metadata": {},
   "outputs": [],
   "source": []
  }
 ],
 "metadata": {
  "kernelspec": {
   "display_name": "Python 3",
   "language": "python",
   "name": "python3"
  },
  "language_info": {
   "codemirror_mode": {
    "name": "ipython",
    "version": 3
   },
   "file_extension": ".py",
   "mimetype": "text/x-python",
   "name": "python",
   "nbconvert_exporter": "python",
   "pygments_lexer": "ipython3",
   "version": "3.8.8"
  }
 },
 "nbformat": 4,
 "nbformat_minor": 5
}
