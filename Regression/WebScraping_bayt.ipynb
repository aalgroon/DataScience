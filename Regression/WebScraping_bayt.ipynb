{
 "cells": [
  {
   "cell_type": "markdown",
   "id": "63c0c332",
   "metadata": {},
   "source": [
    "# Installation"
   ]
  },
  {
   "cell_type": "code",
   "execution_count": null,
   "id": "ed3fa77f",
   "metadata": {},
   "outputs": [],
   "source": [
    "#pip install lxml"
   ]
  },
  {
   "cell_type": "code",
   "execution_count": null,
   "id": "3bd8dd7d",
   "metadata": {},
   "outputs": [],
   "source": [
    "#pip install requests"
   ]
  },
  {
   "cell_type": "code",
   "execution_count": null,
   "id": "76670de1",
   "metadata": {},
   "outputs": [],
   "source": [
    "#pip install beautifulsoup4"
   ]
  },
  {
   "cell_type": "code",
   "execution_count": null,
   "id": "6613492b",
   "metadata": {},
   "outputs": [],
   "source": [
    "#pip install html5lib"
   ]
  },
  {
   "cell_type": "markdown",
   "id": "26d7bb2c",
   "metadata": {},
   "source": [
    "# Imports"
   ]
  },
  {
   "cell_type": "code",
   "execution_count": 4,
   "id": "4a993d7e",
   "metadata": {},
   "outputs": [],
   "source": [
    "import requests\n",
    "from bs4 import BeautifulSoup\n",
    "import csv \n",
    "from itertools import zip_longest "
   ]
  },
  {
   "cell_type": "code",
   "execution_count": 5,
   "id": "2b751e44",
   "metadata": {},
   "outputs": [],
   "source": [
    "result = requests.get(\"https://www.bayt.com/en/saudi-arabia/jobs/data-scientist-jobs/\")"
   ]
  },
  {
   "cell_type": "code",
   "execution_count": 6,
   "id": "6992a864",
   "metadata": {},
   "outputs": [],
   "source": [
    "src = result.content # print (src)"
   ]
  },
  {
   "cell_type": "code",
   "execution_count": 7,
   "id": "65b16851",
   "metadata": {},
   "outputs": [],
   "source": [
    "soup = BeautifulSoup (src,\"html5lib\")#print (soup)"
   ]
  },
  {
   "cell_type": "code",
   "execution_count": 8,
   "id": "a7085abc",
   "metadata": {},
   "outputs": [],
   "source": [
    "job_titles = soup.find_all (\"h2\", {\"class\":\"m0 t-regular\"})#print(job_titles)"
   ]
  },
  {
   "cell_type": "code",
   "execution_count": 14,
   "id": "e5ddcc54",
   "metadata": {},
   "outputs": [],
   "source": [
    "companyName_location = soup.find_all (\"b\", {\"class\":\"p10r\"})\n",
    "#print (companyName_location)"
   ]
  },
  {
   "cell_type": "code",
   "execution_count": 13,
   "id": "58d9ccc0",
   "metadata": {},
   "outputs": [],
   "source": [
    "jobDescription = soup.find_all (\"div\", {\"class\":\"t-small\"})\n",
    "#jobDescription"
   ]
  },
  {
   "cell_type": "code",
   "execution_count": null,
   "id": "58d6e351",
   "metadata": {},
   "outputs": [],
   "source": []
  }
 ],
 "metadata": {
  "kernelspec": {
   "display_name": "Python 3",
   "language": "python",
   "name": "python3"
  },
  "language_info": {
   "codemirror_mode": {
    "name": "ipython",
    "version": 3
   },
   "file_extension": ".py",
   "mimetype": "text/x-python",
   "name": "python",
   "nbconvert_exporter": "python",
   "pygments_lexer": "ipython3",
   "version": "3.8.8"
  }
 },
 "nbformat": 4,
 "nbformat_minor": 5
}
